{
 "cells": [
  {
   "cell_type": "markdown",
   "id": "14145dfa",
   "metadata": {},
   "source": [
    "# Consume Kafka Topic, Process with Spark Stream and write to Cassandra"
   ]
  },
  {
   "cell_type": "markdown",
   "id": "7075f8b6",
   "metadata": {},
   "source": [
    "### Imports"
   ]
  },
  {
   "cell_type": "code",
   "execution_count": 1,
   "id": "b3ac83ee",
   "metadata": {},
   "outputs": [],
   "source": [
    "try: \n",
    "    import os, sys,re\n",
    "    from textblob import TextBlob\n",
    "    from pyspark.ml.feature import Tokenizer, RegexTokenizer\n",
    "    from pyspark.sql import functions as F\n",
    "    from pyspark.sql.types import StringType, StructType, StructField, FloatType\n",
    "    from pyspark.sql import SparkSession\n",
    "    from pyspark.sql.functions import from_json, col, udf\n",
    "    from pyspark.sql.functions import col,avg,sum,min,max,row_number,explode, split\n",
    "    from pyspark.sql.window import Window\n",
    "\n",
    "except: \n",
    "    print(\"Import Error\")"
   ]
  },
  {
   "cell_type": "markdown",
   "id": "64b8f833",
   "metadata": {},
   "source": [
    "### Depending on installation\n",
    "\n",
    "If different python versions are installed, to set env variables might be needed!"
   ]
  },
  {
   "cell_type": "code",
   "execution_count": 2,
   "id": "527115f8",
   "metadata": {},
   "outputs": [],
   "source": [
    "\n",
    "os.environ['PYSPARK_PYTHON'] = sys.executable\n",
    "os.environ['PYSPARK_DRIVER_PYTHON'] = sys.executable"
   ]
  },
  {
   "cell_type": "markdown",
   "id": "75fba418",
   "metadata": {},
   "source": [
    "### User-defined functions for streamprocessing\n",
    "\n",
    "##### preprocessing():\n",
    "clean tweets for for unnecessary characters\n",
    "\n",
    "##### getPolartiy():\n",
    "compute sentiment score with library textblob\n",
    "\n",
    "#### writeToCassandra(): \n",
    "function required for writting to cassandra (table, keyspace)"
   ]
  },
  {
   "cell_type": "code",
   "execution_count": 9,
   "id": "b5f05c49",
   "metadata": {},
   "outputs": [],
   "source": [
    "def preprocessing(tweet: str) -> str:\n",
    "    tweet = re.sub(r'http\\S+', '', str(tweet))\n",
    "    tweet = re.sub(r'bit.ly/\\S+', '', str(tweet))\n",
    "    tweet = tweet.strip('[link]')\n",
    "\n",
    "    # remove users\n",
    "    tweet = re.sub('(RT\\s@[A-Za-z]+[A-Za-z0-9-_]+)', '', str(tweet))\n",
    "    tweet = re.sub('(@[A-Za-z]+[A-Za-z0-9-_]+)', '', str(tweet))\n",
    "\n",
    "    # remove puntuation\n",
    "    my_punctuation = '!\"$%&\\'()*+,-./:;<=>?[\\\\]^_`{|}~•@â'\n",
    "    tweet = re.sub('[' + my_punctuation + ']+', ' ', str(tweet))\n",
    "\n",
    "    # remove number\n",
    "    tweet = re.sub('([0-9]+)', '', str(tweet))\n",
    "\n",
    "    # remove hashtag\n",
    "    tweet = re.sub('(#[A-Za-z]+[A-Za-z0-9-_]+)', '', str(tweet))\n",
    "\n",
    "    return tweet\n",
    "\n",
    "\n",
    "def getPolarity(text: str):\n",
    "    return TextBlob(text).sentiment.polarity\n",
    "\n",
    "def writeToCassandra(writeDF, _):\n",
    "    writeDF.write \\\n",
    "    .format(\"org.apache.spark.sql.cassandra\")\\\n",
    "    .mode('append')\\\n",
    "    .options(table=\"sencity\", keyspace=\"sacity\")\\\n",
    "    .save()\n",
    "\n",
    "#Convert to udf functions for spark \n",
    "preproccesing_udf = udf( lambda z: preprocessing(z) , StringType())\n",
    "sentiment_udf = udf( lambda z: getPolarity(z), FloatType()) "
   ]
  },
  {
   "cell_type": "markdown",
   "id": "cf8dfd0c",
   "metadata": {},
   "source": [
    "### Init Spark Streaming\n",
    "\n",
    "Init sparksession and apply transformations. "
   ]
  },
  {
   "cell_type": "code",
   "execution_count": null,
   "id": "ef0ac79e",
   "metadata": {},
   "outputs": [
    {
     "name": "stdout",
     "output_type": "stream",
     "text": [
      "22/10/30 13:18:38 WARN ResolveWriteToStream: Temporary checkpoint location created which is deleted normally when the query didn't fail: /tmp/temporary-53c6eaab-bca3-4e17-afcb-a14c1579bae7. If it's required to delete it under any circumstances, please set spark.sql.streaming.forceDeleteTempCheckpointLocation to true. Important to know deleting temp checkpoint folder is best effort.\n",
      "22/10/30 13:18:38 WARN ResolveWriteToStream: spark.sql.adaptive.enabled is not supported in streaming DataFrames/Datasets and will be disabled.\n",
      "22/10/30 13:18:39 WARN KafkaDataConsumer: KafkaDataConsumer is not running in UninterruptibleThread. It may hang when KafkaDataConsumer's methods are interrupted because of KAFKA-1894\n",
      "22/10/30 13:18:40 WARN KafkaDataConsumer: KafkaDataConsumer is not running in UninterruptibleThread. It may hang when KafkaDataConsumer's methods are interrupted because of KAFKA-1894\n",
      "22/10/30 13:18:40 WARN KafkaDataConsumer: KafkaDataConsumer is not running in UninterruptibleThread. It may hang when KafkaDataConsumer's methods are interrupted because of KAFKA-1894\n",
      "22/10/30 13:18:40 WARN KafkaDataConsumer: KafkaDataConsumer is not running in UninterruptibleThread. It may hang when KafkaDataConsumer's methods are interrupted because of KAFKA-1894\n",
      "22/10/30 13:18:40 WARN KafkaDataConsumer: KafkaDataConsumer is not running in UninterruptibleThread. It may hang when KafkaDataConsumer's methods are interrupted because of KAFKA-1894\n",
      "22/10/30 13:18:40 WARN KafkaDataConsumer: KafkaDataConsumer is not running in UninterruptibleThread. It may hang when KafkaDataConsumer's methods are interrupted because of KAFKA-1894\n",
      "22/10/30 13:18:40 WARN KafkaDataConsumer: KafkaDataConsumer is not running in UninterruptibleThread. It may hang when KafkaDataConsumer's methods are interrupted because of KAFKA-1894\n",
      "22/10/30 13:18:40 WARN KafkaDataConsumer: KafkaDataConsumer is not running in UninterruptibleThread. It may hang when KafkaDataConsumer's methods are interrupted because of KAFKA-1894\n",
      "22/10/30 13:18:40 WARN KafkaDataConsumer: KafkaDataConsumer is not running in UninterruptibleThread. It may hang when KafkaDataConsumer's methods are interrupted because of KAFKA-1894\n",
      "22/10/30 13:18:40 WARN KafkaDataConsumer: KafkaDataConsumer is not running in UninterruptibleThread. It may hang when KafkaDataConsumer's methods are interrupted because of KAFKA-1894\n",
      "22/10/30 13:18:40 WARN KafkaDataConsumer: KafkaDataConsumer is not running in UninterruptibleThread. It may hang when KafkaDataConsumer's methods are interrupted because of KAFKA-1894\n",
      "22/10/30 13:18:40 WARN KafkaDataConsumer: KafkaDataConsumer is not running in UninterruptibleThread. It may hang when KafkaDataConsumer's methods are interrupted because of KAFKA-1894\n",
      "22/10/30 13:18:40 WARN KafkaDataConsumer: KafkaDataConsumer is not running in UninterruptibleThread. It may hang when KafkaDataConsumer's methods are interrupted because of KAFKA-1894\n",
      "22/10/30 13:18:40 WARN KafkaDataConsumer: KafkaDataConsumer is not running in UninterruptibleThread. It may hang when KafkaDataConsumer's methods are interrupted because of KAFKA-1894\n",
      "22/10/30 13:18:40 WARN KafkaDataConsumer: KafkaDataConsumer is not running in UninterruptibleThread. It may hang when KafkaDataConsumer's methods are interrupted because of KAFKA-1894\n",
      "22/10/30 13:18:40 WARN KafkaDataConsumer: KafkaDataConsumer is not running in UninterruptibleThread. It may hang when KafkaDataConsumer's methods are interrupted because of KAFKA-1894\n",
      "22/10/30 13:18:40 WARN KafkaDataConsumer: KafkaDataConsumer is not running in UninterruptibleThread. It may hang when KafkaDataConsumer's methods are interrupted because of KAFKA-1894\n",
      "22/10/30 13:18:40 WARN KafkaDataConsumer: KafkaDataConsumer is not running in UninterruptibleThread. It may hang when KafkaDataConsumer's methods are interrupted because of KAFKA-1894\n",
      "22/10/30 13:18:40 WARN KafkaDataConsumer: KafkaDataConsumer is not running in UninterruptibleThread. It may hang when KafkaDataConsumer's methods are interrupted because of KAFKA-1894\n",
      "22/10/30 13:18:40 WARN KafkaDataConsumer: KafkaDataConsumer is not running in UninterruptibleThread. It may hang when KafkaDataConsumer's methods are interrupted because of KAFKA-1894\n",
      "22/10/30 13:18:40 WARN KafkaDataConsumer: KafkaDataConsumer is not running in UninterruptibleThread. It may hang when KafkaDataConsumer's methods are interrupted because of KAFKA-1894\n",
      "22/10/30 13:18:40 WARN KafkaDataConsumer: KafkaDataConsumer is not running in UninterruptibleThread. It may hang when KafkaDataConsumer's methods are interrupted because of KAFKA-1894\n",
      "22/10/30 13:18:40 WARN KafkaDataConsumer: KafkaDataConsumer is not running in UninterruptibleThread. It may hang when KafkaDataConsumer's methods are interrupted because of KAFKA-1894\n",
      "22/10/30 13:18:40 WARN KafkaDataConsumer: KafkaDataConsumer is not running in UninterruptibleThread. It may hang when KafkaDataConsumer's methods are interrupted because of KAFKA-1894\n",
      "22/10/30 13:18:40 WARN KafkaDataConsumer: KafkaDataConsumer is not running in UninterruptibleThread. It may hang when KafkaDataConsumer's methods are interrupted because of KAFKA-1894\n",
      "22/10/30 13:18:40 WARN KafkaDataConsumer: KafkaDataConsumer is not running in UninterruptibleThread. It may hang when KafkaDataConsumer's methods are interrupted because of KAFKA-1894\n",
      "22/10/30 13:18:40 WARN KafkaDataConsumer: KafkaDataConsumer is not running in UninterruptibleThread. It may hang when KafkaDataConsumer's methods are interrupted because of KAFKA-1894\n",
      "22/10/30 13:18:40 WARN KafkaDataConsumer: KafkaDataConsumer is not running in UninterruptibleThread. It may hang when KafkaDataConsumer's methods are interrupted because of KAFKA-1894\n",
      "22/10/30 13:18:40 WARN KafkaDataConsumer: KafkaDataConsumer is not running in UninterruptibleThread. It may hang when KafkaDataConsumer's methods are interrupted because of KAFKA-1894\n",
      "22/10/30 13:18:40 WARN KafkaDataConsumer: KafkaDataConsumer is not running in UninterruptibleThread. It may hang when KafkaDataConsumer's methods are interrupted because of KAFKA-1894\n",
      "22/10/30 13:18:40 WARN KafkaDataConsumer: KafkaDataConsumer is not running in UninterruptibleThread. It may hang when KafkaDataConsumer's methods are interrupted because of KAFKA-1894\n"
     ]
    },
    {
     "name": "stderr",
     "output_type": "stream",
     "text": [
      "                                                                                \r"
     ]
    },
    {
     "name": "stdout",
     "output_type": "stream",
     "text": [
      "22/10/30 13:18:54 WARN ProcessingTimeExecutor: Current batch is falling behind. The trigger interval is 10000 milliseconds, but spent 15370 milliseconds\n",
      "22/10/30 13:43:03 WARN NetworkClient: [Consumer clientId=consumer-spark-kafka-source-e8f37422-6dd8-4eea-a9db-876b57bfb254-982882963-driver-0-7, groupId=spark-kafka-source-e8f37422-6dd8-4eea-a9db-876b57bfb254-982882963-driver-0] Connection to node 0 (osboxes/127.0.1.1:9092) could not be established. Broker may not be available.\n",
      "22/10/30 13:43:03 WARN NetworkClient: [Consumer clientId=consumer-spark-kafka-source-b71bac08-a273-4e20-9ae2-d179d2fb07eb-1481272023-driver-0-1, groupId=spark-kafka-source-b71bac08-a273-4e20-9ae2-d179d2fb07eb-1481272023-driver-0] Connection to node 0 (osboxes/127.0.1.1:9092) could not be established. Broker may not be available.\n",
      "22/10/30 13:43:03 WARN NetworkClient: [Consumer clientId=consumer-spark-kafka-source-9191e223-9e5c-4327-9436-2167c8e7253a--883587546-driver-0-3, groupId=spark-kafka-source-9191e223-9e5c-4327-9436-2167c8e7253a--883587546-driver-0] Connection to node 0 (osboxes/127.0.1.1:9092) could not be established. Broker may not be available.\n",
      "22/10/30 13:43:03 WARN NetworkClient: [Consumer clientId=consumer-spark-kafka-source-e8f37422-6dd8-4eea-a9db-876b57bfb254-982882963-driver-0-7, groupId=spark-kafka-source-e8f37422-6dd8-4eea-a9db-876b57bfb254-982882963-driver-0] Connection to node 0 (osboxes/127.0.1.1:9092) could not be established. Broker may not be available.\n",
      "22/10/30 13:43:03 WARN NetworkClient: [Consumer clientId=consumer-spark-kafka-source-b71bac08-a273-4e20-9ae2-d179d2fb07eb-1481272023-driver-0-1, groupId=spark-kafka-source-b71bac08-a273-4e20-9ae2-d179d2fb07eb-1481272023-driver-0] Connection to node 0 (osboxes/127.0.1.1:9092) could not be established. Broker may not be available.\n",
      "22/10/30 13:43:03 WARN NetworkClient: [Consumer clientId=consumer-spark-kafka-source-9191e223-9e5c-4327-9436-2167c8e7253a--883587546-driver-0-3, groupId=spark-kafka-source-9191e223-9e5c-4327-9436-2167c8e7253a--883587546-driver-0] Connection to node 0 (osboxes/127.0.1.1:9092) could not be established. Broker may not be available.\n",
      "22/10/30 13:43:04 WARN NetworkClient: [Consumer clientId=consumer-spark-kafka-source-e8f37422-6dd8-4eea-a9db-876b57bfb254-982882963-driver-0-7, groupId=spark-kafka-source-e8f37422-6dd8-4eea-a9db-876b57bfb254-982882963-driver-0] Connection to node 0 (osboxes/127.0.1.1:9092) could not be established. Broker may not be available.\n",
      "22/10/30 13:43:04 WARN NetworkClient: [Consumer clientId=consumer-spark-kafka-source-9191e223-9e5c-4327-9436-2167c8e7253a--883587546-driver-0-3, groupId=spark-kafka-source-9191e223-9e5c-4327-9436-2167c8e7253a--883587546-driver-0] Connection to node 0 (osboxes/127.0.1.1:9092) could not be established. Broker may not be available.\n",
      "22/10/30 13:43:04 WARN NetworkClient: [Consumer clientId=consumer-spark-kafka-source-b71bac08-a273-4e20-9ae2-d179d2fb07eb-1481272023-driver-0-1, groupId=spark-kafka-source-b71bac08-a273-4e20-9ae2-d179d2fb07eb-1481272023-driver-0] Connection to node 0 (osboxes/127.0.1.1:9092) could not be established. Broker may not be available.\n",
      "22/10/30 13:43:04 WARN NetworkClient: [Consumer clientId=consumer-spark-kafka-source-9191e223-9e5c-4327-9436-2167c8e7253a--883587546-driver-0-3, groupId=spark-kafka-source-9191e223-9e5c-4327-9436-2167c8e7253a--883587546-driver-0] Connection to node 0 (osboxes/127.0.1.1:9092) could not be established. Broker may not be available.\n",
      "22/10/30 13:43:04 WARN NetworkClient: [Consumer clientId=consumer-spark-kafka-source-e8f37422-6dd8-4eea-a9db-876b57bfb254-982882963-driver-0-7, groupId=spark-kafka-source-e8f37422-6dd8-4eea-a9db-876b57bfb254-982882963-driver-0] Connection to node 0 (osboxes/127.0.1.1:9092) could not be established. Broker may not be available.\n",
      "22/10/30 13:43:04 WARN NetworkClient: [Consumer clientId=consumer-spark-kafka-source-b71bac08-a273-4e20-9ae2-d179d2fb07eb-1481272023-driver-0-1, groupId=spark-kafka-source-b71bac08-a273-4e20-9ae2-d179d2fb07eb-1481272023-driver-0] Connection to node 0 (osboxes/127.0.1.1:9092) could not be established. Broker may not be available.\n",
      "22/10/30 13:43:05 WARN NetworkClient: [Consumer clientId=consumer-spark-kafka-source-e8f37422-6dd8-4eea-a9db-876b57bfb254-982882963-driver-0-7, groupId=spark-kafka-source-e8f37422-6dd8-4eea-a9db-876b57bfb254-982882963-driver-0] Connection to node 0 (osboxes/127.0.1.1:9092) could not be established. Broker may not be available.\n",
      "22/10/30 13:43:05 WARN NetworkClient: [Consumer clientId=consumer-spark-kafka-source-9191e223-9e5c-4327-9436-2167c8e7253a--883587546-driver-0-3, groupId=spark-kafka-source-9191e223-9e5c-4327-9436-2167c8e7253a--883587546-driver-0] Connection to node 0 (osboxes/127.0.1.1:9092) could not be established. Broker may not be available.\n",
      "22/10/30 13:43:05 WARN NetworkClient: [Consumer clientId=consumer-spark-kafka-source-b71bac08-a273-4e20-9ae2-d179d2fb07eb-1481272023-driver-0-1, groupId=spark-kafka-source-b71bac08-a273-4e20-9ae2-d179d2fb07eb-1481272023-driver-0] Connection to node 0 (osboxes/127.0.1.1:9092) could not be established. Broker may not be available.\n",
      "22/10/30 13:43:06 WARN NetworkClient: [Consumer clientId=consumer-spark-kafka-source-b71bac08-a273-4e20-9ae2-d179d2fb07eb-1481272023-driver-0-1, groupId=spark-kafka-source-b71bac08-a273-4e20-9ae2-d179d2fb07eb-1481272023-driver-0] Connection to node 0 (osboxes/127.0.1.1:9092) could not be established. Broker may not be available.\n",
      "22/10/30 13:43:06 WARN NetworkClient: [Consumer clientId=consumer-spark-kafka-source-e8f37422-6dd8-4eea-a9db-876b57bfb254-982882963-driver-0-7, groupId=spark-kafka-source-e8f37422-6dd8-4eea-a9db-876b57bfb254-982882963-driver-0] Connection to node 0 (osboxes/127.0.1.1:9092) could not be established. Broker may not be available.\n",
      "22/10/30 13:43:06 WARN NetworkClient: [Consumer clientId=consumer-spark-kafka-source-9191e223-9e5c-4327-9436-2167c8e7253a--883587546-driver-0-3, groupId=spark-kafka-source-9191e223-9e5c-4327-9436-2167c8e7253a--883587546-driver-0] Connection to node 0 (osboxes/127.0.1.1:9092) could not be established. Broker may not be available.\n",
      "22/10/30 13:43:07 WARN NetworkClient: [Consumer clientId=consumer-spark-kafka-source-b71bac08-a273-4e20-9ae2-d179d2fb07eb-1481272023-driver-0-1, groupId=spark-kafka-source-b71bac08-a273-4e20-9ae2-d179d2fb07eb-1481272023-driver-0] Connection to node 0 (osboxes/127.0.1.1:9092) could not be established. Broker may not be available.\n",
      "22/10/30 13:43:07 WARN NetworkClient: [Consumer clientId=consumer-spark-kafka-source-e8f37422-6dd8-4eea-a9db-876b57bfb254-982882963-driver-0-7, groupId=spark-kafka-source-e8f37422-6dd8-4eea-a9db-876b57bfb254-982882963-driver-0] Connection to node 0 (osboxes/127.0.1.1:9092) could not be established. Broker may not be available.\n",
      "22/10/30 13:43:07 WARN NetworkClient: [Consumer clientId=consumer-spark-kafka-source-9191e223-9e5c-4327-9436-2167c8e7253a--883587546-driver-0-3, groupId=spark-kafka-source-9191e223-9e5c-4327-9436-2167c8e7253a--883587546-driver-0] Connection to node 0 (osboxes/127.0.1.1:9092) could not be established. Broker may not be available.\n",
      "22/10/30 13:43:08 WARN NetworkClient: [Consumer clientId=consumer-spark-kafka-source-b71bac08-a273-4e20-9ae2-d179d2fb07eb-1481272023-driver-0-1, groupId=spark-kafka-source-b71bac08-a273-4e20-9ae2-d179d2fb07eb-1481272023-driver-0] Connection to node 0 (osboxes/127.0.1.1:9092) could not be established. Broker may not be available.\n",
      "22/10/30 13:43:08 WARN NetworkClient: [Consumer clientId=consumer-spark-kafka-source-9191e223-9e5c-4327-9436-2167c8e7253a--883587546-driver-0-3, groupId=spark-kafka-source-9191e223-9e5c-4327-9436-2167c8e7253a--883587546-driver-0] Connection to node 0 (osboxes/127.0.1.1:9092) could not be established. Broker may not be available.\n",
      "22/10/30 13:43:08 WARN NetworkClient: [Consumer clientId=consumer-spark-kafka-source-e8f37422-6dd8-4eea-a9db-876b57bfb254-982882963-driver-0-7, groupId=spark-kafka-source-e8f37422-6dd8-4eea-a9db-876b57bfb254-982882963-driver-0] Connection to node 0 (osboxes/127.0.1.1:9092) could not be established. Broker may not be available.\n",
      "22/10/30 13:43:09 WARN NetworkClient: [Consumer clientId=consumer-spark-kafka-source-9191e223-9e5c-4327-9436-2167c8e7253a--883587546-driver-0-3, groupId=spark-kafka-source-9191e223-9e5c-4327-9436-2167c8e7253a--883587546-driver-0] Connection to node 0 (osboxes/127.0.1.1:9092) could not be established. Broker may not be available.\n",
      "22/10/30 13:43:09 WARN NetworkClient: [Consumer clientId=consumer-spark-kafka-source-b71bac08-a273-4e20-9ae2-d179d2fb07eb-1481272023-driver-0-1, groupId=spark-kafka-source-b71bac08-a273-4e20-9ae2-d179d2fb07eb-1481272023-driver-0] Connection to node 0 (osboxes/127.0.1.1:9092) could not be established. Broker may not be available.\n"
     ]
    },
    {
     "name": "stdout",
     "output_type": "stream",
     "text": [
      "22/10/30 13:43:09 WARN NetworkClient: [Consumer clientId=consumer-spark-kafka-source-e8f37422-6dd8-4eea-a9db-876b57bfb254-982882963-driver-0-7, groupId=spark-kafka-source-e8f37422-6dd8-4eea-a9db-876b57bfb254-982882963-driver-0] Connection to node 0 (osboxes/127.0.1.1:9092) could not be established. Broker may not be available.\n",
      "22/10/30 13:43:10 WARN NetworkClient: [Consumer clientId=consumer-spark-kafka-source-b71bac08-a273-4e20-9ae2-d179d2fb07eb-1481272023-driver-0-1, groupId=spark-kafka-source-b71bac08-a273-4e20-9ae2-d179d2fb07eb-1481272023-driver-0] Connection to node 0 (osboxes/127.0.1.1:9092) could not be established. Broker may not be available.\n",
      "22/10/30 13:43:10 WARN NetworkClient: [Consumer clientId=consumer-spark-kafka-source-9191e223-9e5c-4327-9436-2167c8e7253a--883587546-driver-0-3, groupId=spark-kafka-source-9191e223-9e5c-4327-9436-2167c8e7253a--883587546-driver-0] Connection to node 0 (osboxes/127.0.1.1:9092) could not be established. Broker may not be available.\n",
      "22/10/30 13:43:10 WARN NetworkClient: [Consumer clientId=consumer-spark-kafka-source-e8f37422-6dd8-4eea-a9db-876b57bfb254-982882963-driver-0-7, groupId=spark-kafka-source-e8f37422-6dd8-4eea-a9db-876b57bfb254-982882963-driver-0] Connection to node 0 (osboxes/127.0.1.1:9092) could not be established. Broker may not be available.\n",
      "22/10/30 13:43:11 WARN NetworkClient: [Consumer clientId=consumer-spark-kafka-source-9191e223-9e5c-4327-9436-2167c8e7253a--883587546-driver-0-3, groupId=spark-kafka-source-9191e223-9e5c-4327-9436-2167c8e7253a--883587546-driver-0] Error while fetching metadata with correlation id 814 : {saCity=UNKNOWN_TOPIC_OR_PARTITION}\n",
      "22/10/30 13:43:11 WARN NetworkClient: [Consumer clientId=consumer-spark-kafka-source-b71bac08-a273-4e20-9ae2-d179d2fb07eb-1481272023-driver-0-1, groupId=spark-kafka-source-b71bac08-a273-4e20-9ae2-d179d2fb07eb-1481272023-driver-0] Error while fetching metadata with correlation id 876 : {saCity=LEADER_NOT_AVAILABLE}\n",
      "22/10/30 13:43:11 WARN NetworkClient: [Consumer clientId=consumer-spark-kafka-source-e8f37422-6dd8-4eea-a9db-876b57bfb254-982882963-driver-0-7, groupId=spark-kafka-source-e8f37422-6dd8-4eea-a9db-876b57bfb254-982882963-driver-0] Error while fetching metadata with correlation id 654 : {saCity=LEADER_NOT_AVAILABLE}\n",
      "22/10/30 13:43:11 WARN NetworkClient: [Consumer clientId=consumer-spark-kafka-source-9191e223-9e5c-4327-9436-2167c8e7253a--883587546-driver-0-3, groupId=spark-kafka-source-9191e223-9e5c-4327-9436-2167c8e7253a--883587546-driver-0] Error while fetching metadata with correlation id 816 : {saCity=LEADER_NOT_AVAILABLE}\n",
      "22/10/30 13:43:11 WARN NetworkClient: [Consumer clientId=consumer-spark-kafka-source-b71bac08-a273-4e20-9ae2-d179d2fb07eb-1481272023-driver-0-1, groupId=spark-kafka-source-b71bac08-a273-4e20-9ae2-d179d2fb07eb-1481272023-driver-0] Error while fetching metadata with correlation id 878 : {saCity=LEADER_NOT_AVAILABLE}\n",
      "22/10/30 13:43:11 WARN NetworkClient: [Consumer clientId=consumer-spark-kafka-source-e8f37422-6dd8-4eea-a9db-876b57bfb254-982882963-driver-0-7, groupId=spark-kafka-source-e8f37422-6dd8-4eea-a9db-876b57bfb254-982882963-driver-0] Error while fetching metadata with correlation id 656 : {saCity=LEADER_NOT_AVAILABLE}\n",
      "22/10/30 13:43:12 WARN NetworkClient: [Consumer clientId=consumer-spark-kafka-source-9191e223-9e5c-4327-9436-2167c8e7253a--883587546-driver-0-3, groupId=spark-kafka-source-9191e223-9e5c-4327-9436-2167c8e7253a--883587546-driver-0] Error while fetching metadata with correlation id 818 : {saCity=LEADER_NOT_AVAILABLE}\n",
      "22/10/30 13:43:12 WARN NetworkClient: [Consumer clientId=consumer-spark-kafka-source-b71bac08-a273-4e20-9ae2-d179d2fb07eb-1481272023-driver-0-1, groupId=spark-kafka-source-b71bac08-a273-4e20-9ae2-d179d2fb07eb-1481272023-driver-0] Error while fetching metadata with correlation id 880 : {saCity=LEADER_NOT_AVAILABLE}\n",
      "22/10/30 13:43:12 WARN NetworkClient: [Consumer clientId=consumer-spark-kafka-source-e8f37422-6dd8-4eea-a9db-876b57bfb254-982882963-driver-0-7, groupId=spark-kafka-source-e8f37422-6dd8-4eea-a9db-876b57bfb254-982882963-driver-0] Error while fetching metadata with correlation id 658 : {saCity=LEADER_NOT_AVAILABLE}\n",
      "22/10/30 13:43:12 WARN NetworkClient: [Consumer clientId=consumer-spark-kafka-source-9191e223-9e5c-4327-9436-2167c8e7253a--883587546-driver-0-3, groupId=spark-kafka-source-9191e223-9e5c-4327-9436-2167c8e7253a--883587546-driver-0] Error while fetching metadata with correlation id 820 : {saCity=LEADER_NOT_AVAILABLE}\n",
      "22/10/30 13:43:12 WARN NetworkClient: [Consumer clientId=consumer-spark-kafka-source-b71bac08-a273-4e20-9ae2-d179d2fb07eb-1481272023-driver-0-1, groupId=spark-kafka-source-b71bac08-a273-4e20-9ae2-d179d2fb07eb-1481272023-driver-0] Error while fetching metadata with correlation id 882 : {saCity=LEADER_NOT_AVAILABLE}\n",
      "22/10/30 13:43:12 WARN NetworkClient: [Consumer clientId=consumer-spark-kafka-source-e8f37422-6dd8-4eea-a9db-876b57bfb254-982882963-driver-0-7, groupId=spark-kafka-source-e8f37422-6dd8-4eea-a9db-876b57bfb254-982882963-driver-0] Error while fetching metadata with correlation id 660 : {saCity=LEADER_NOT_AVAILABLE}\n",
      "22/10/30 13:43:12 WARN NetworkClient: [Consumer clientId=consumer-spark-kafka-source-9191e223-9e5c-4327-9436-2167c8e7253a--883587546-driver-0-3, groupId=spark-kafka-source-9191e223-9e5c-4327-9436-2167c8e7253a--883587546-driver-0] Error while fetching metadata with correlation id 822 : {saCity=LEADER_NOT_AVAILABLE}\n",
      "22/10/30 13:43:12 WARN NetworkClient: [Consumer clientId=consumer-spark-kafka-source-b71bac08-a273-4e20-9ae2-d179d2fb07eb-1481272023-driver-0-1, groupId=spark-kafka-source-b71bac08-a273-4e20-9ae2-d179d2fb07eb-1481272023-driver-0] Error while fetching metadata with correlation id 884 : {saCity=LEADER_NOT_AVAILABLE}\n",
      "22/10/30 13:43:12 WARN NetworkClient: [Consumer clientId=consumer-spark-kafka-source-e8f37422-6dd8-4eea-a9db-876b57bfb254-982882963-driver-0-7, groupId=spark-kafka-source-e8f37422-6dd8-4eea-a9db-876b57bfb254-982882963-driver-0] Error while fetching metadata with correlation id 662 : {saCity=LEADER_NOT_AVAILABLE}\n"
     ]
    }
   ],
   "source": [
    "spark = SparkSession \\\n",
    "    .builder \\\n",
    "    .appName(\"TwitterSentimentAnalysis\") \\\n",
    "    .config(\"spark.jars.packages\",\"org.apache.spark:spark-sql-kafka-0-10_2.12:3.2.0,com.datastax.spark:spark-cassandra-connector_2.12:3.0.0\") \\\n",
    "    .getOrCreate()\n",
    "\n",
    "\n",
    "df = spark \\\n",
    "    .readStream \\\n",
    "    .format(\"kafka\") \\\n",
    "    .option(\"kafka.bootstrap.servers\", \"localhost:9092\") \\\n",
    "    .option(\"subscribe\", \"saCity\") \\\n",
    "    .option(\"startingOffsets\",\"earliest\") \\\n",
    "    .load()\n",
    "\n",
    "\n",
    "df= df.withColumn('key_str', df['key'].cast('string').alias('key_str'))\\\n",
    "    .drop('key').withColumn('value_str', df['value']\\\n",
    "    .cast('string')\\\n",
    "    .alias('key_str'))\\\n",
    "    .drop('value')\n",
    "\n",
    "\n",
    "#Transform stream, Preprocess and \n",
    "clean_df = df.withColumn(\"preprocessed_str\", preproccesing_udf(col(\"value_str\")))\n",
    "sentiment_df = clean_df.withColumn(\"sentiment\", sentiment_udf(col(\"preprocessed_str\")))\n",
    "final_df = sentiment_df.groupBy(F.window(col(\"TimeStamp\"), \"5 seconds\"), col(\"key_str\"))\\\n",
    "    .agg(avg(\"sentiment\"))\\\n",
    "    .select(col(\"window.start\")\\\n",
    "    .alias(\"windowstart\"), col(\"window.end\")\\\n",
    "    .alias(\"windowend\"), \"key_str\",col(\"avg(sentiment)\")\\\n",
    "    .alias(\"sentiment\"))\n",
    "\n",
    "\n",
    "\n",
    "\n",
    "\n",
    "###QUERY 1: RUN THIS FOR TESTING: COMMENT QUERY NUMBER 2\n",
    "\n",
    "\"\"\"\n",
    "query = final_df.writeStream \\\n",
    "    .trigger(processingTime=\"10 seconds\") \\\n",
    "    .outputMode(\"complete\")\\\n",
    "    .format(\"console\")\\\n",
    "    .start()\n",
    "\"\"\"\n",
    "\n",
    "\n",
    "\n",
    "###QUERY 2: RUN THIS PRODUCTION: COMMENT QUERY NUMBER 1 (DEFUALT)\n",
    "query = final_df.writeStream \\\n",
    "    .trigger(processingTime=\"10 seconds\") \\\n",
    "    .option(\"spark.cassandra.connection.host\",\"localhost:9042\")\\\n",
    "    .foreachBatch(writeToCassandra) \\\n",
    "    .outputMode(\"update\") \\\n",
    "    .start()\\\n",
    "\n",
    "\n",
    "query.awaitTermination()\n"
   ]
  },
  {
   "cell_type": "code",
   "execution_count": null,
   "id": "0a235c09",
   "metadata": {},
   "outputs": [],
   "source": []
  }
 ],
 "metadata": {
  "kernelspec": {
   "display_name": "Python 3 (ipykernel)",
   "language": "python",
   "name": "python3"
  },
  "language_info": {
   "codemirror_mode": {
    "name": "ipython",
    "version": 3
   },
   "file_extension": ".py",
   "mimetype": "text/x-python",
   "name": "python",
   "nbconvert_exporter": "python",
   "pygments_lexer": "ipython3",
   "version": "3.9.12"
  }
 },
 "nbformat": 4,
 "nbformat_minor": 5
}

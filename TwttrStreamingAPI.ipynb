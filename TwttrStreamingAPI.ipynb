{
 "cells": [
  {
   "cell_type": "markdown",
   "id": "42235903",
   "metadata": {},
   "source": [
    "# Twitter Stream to Kafka"
   ]
  },
  {
   "cell_type": "markdown",
   "id": "107be167",
   "metadata": {},
   "source": [
    "### Import following libaries: "
   ]
  },
  {
   "cell_type": "code",
   "execution_count": 7,
   "id": "9bd0e5fc",
   "metadata": {},
   "outputs": [],
   "source": [
    "try: \n",
    "    import time\n",
    "    import tweepy\n",
    "    from kafka import KafkaProducer, KafkaClient\n",
    "    \n",
    "except: \n",
    "    print(\"Import Error!\")"
   ]
  },
  {
   "cell_type": "markdown",
   "id": "3e7e744b",
   "metadata": {},
   "source": [
    "### Credentials for Twitter API "
   ]
  },
  {
   "cell_type": "code",
   "execution_count": 8,
   "id": "3d686c7d",
   "metadata": {},
   "outputs": [],
   "source": [
    "# only bearer token needed\n",
    "API_KEY=\"k5lkPdbW3yiv6OugISottI1UO\"\n",
    "API_KEY_SECRET=\"DeHEgtGAQG4gmfYj84147T1h1tmZvG0n6NzvMbGvxYh4J2ENI1\"\n",
    "Bearer_Token=\"AAAAAAAAAAAAAAAAAAAAAJg0hgEAAAAANc2TTj1gRZmKW2rq8NZvBst3DXA%3DLRNYWs2gQ144fZI9GSDCWY7jZjWY7X6IDbweA395rvScIKbo5V\"\n",
    "Access_Token=\"3012781875-FobPXdaEUULbVRl7SxgJd6aofifDQ0OvNUJpM3Z\"\n",
    "Access_Token_Secret=\"6YBex4ApVSAiznUb5CJICHiGAFw5AlVC4rmEHTMPZYOSG\""
   ]
  },
  {
   "cell_type": "markdown",
   "id": "4d31bab1",
   "metadata": {},
   "source": [
    "### Functionality and rules for stream  "
   ]
  },
  {
   "cell_type": "code",
   "execution_count": 11,
   "id": "895d71d7",
   "metadata": {},
   "outputs": [],
   "source": [
    "class TweetStreamV2(tweepy.StreamingClient):\n",
    "    \n",
    "    producer = KafkaProducer(bootstrap_servers='localhost:9092', key_serializer=str.encode)\n",
    "    \n",
    "    new_tweet = {}\n",
    "    def on_connect(self):\n",
    "        print(\"Connected!\")\n",
    "    def on_includes(self, includes):\n",
    "        self.new_tweet[\"username\"] = includes[\"users\"][0].username\n",
    "        print(self.new_tweet)\n",
    "    def on_tweet(self, tweet):\n",
    "        if tweet.referenced_tweets == None:\n",
    "            \n",
    "            if \"Chicago\" in tweet.text:\n",
    "                self.producer.send(\"saCity\", key=\"CHI\", value=tweet.text.encode('utf-8'))\n",
    "            if \"London\" in tweet.text:\n",
    "                self.producer.send(\"saCity\", key=\"LON\", value=tweet.text.encode('utf-8'))\n",
    "            if \"Sidney\" in tweet.text:\n",
    "                self.producer.send(\"saCtiy\", key=\"SID\", value=tweet.text.encode('utf-8'))\n",
    "\n",
    "\n",
    "            time.sleep(0.3)"
   ]
  },
  {
   "cell_type": "markdown",
   "id": "445f8341",
   "metadata": {},
   "source": [
    "### Run application, streams data to kafka topic"
   ]
  },
  {
   "cell_type": "code",
   "execution_count": 12,
   "id": "078a7e57",
   "metadata": {},
   "outputs": [
    {
     "name": "stdout",
     "output_type": "stream",
     "text": [
      "Connected!\n",
      "{'username': 'BilalQa64859347'}\n",
      "{'username': 'iloveHK3333'}\n",
      "{'username': 'SardarGhalib'}\n",
      "{'username': 'Victory44666573'}\n",
      "{'username': 'samcliff__'}\n",
      "{'username': 'CJ29334510'}\n",
      "{'username': 'IftikharUmarRa1'}\n",
      "{'username': 'romanerobbcom'}\n",
      "{'username': 'AzmatTabish2'}\n",
      "{'username': 'mountclinica'}\n",
      "{'username': 'i_uba_22'}\n",
      "{'username': 'DavidElstone1'}\n",
      "{'username': 'ChSaim333'}\n",
      "{'username': 'M44964617Majors'}\n",
      "{'username': 'njoychi'}\n",
      "{'username': 'OSchreibt'}\n",
      "{'username': 'mcm1777'}\n",
      "{'username': 'BrianBengal'}\n",
      "{'username': 'JrNatiki'}\n",
      "{'username': 'DrFaizanPTI'}\n",
      "{'username': 'makonzonge'}\n",
      "{'username': 'Jackaflackamac'}\n",
      "{'username': 'mtns2ocean'}\n",
      "{'username': 'GuptaRamita'}\n",
      "{'username': 'rubentisch'}\n",
      "{'username': 'Calvinmichaelb'}\n",
      "{'username': 'dawood_suleyman'}\n",
      "{'username': 'islandma60'}\n",
      "{'username': 'antitractionist'}\n",
      "{'username': 'no0sh1n'}\n",
      "{'username': 'ManiMan76132017'}\n",
      "{'username': 'AyshAlmjyd'}\n",
      "{'username': 'LefebvreKato'}\n",
      "{'username': 'TrevsterH'}\n",
      "{'username': 'PNSNTK'}\n",
      "{'username': 'BrenIsConcerned'}\n",
      "{'username': 'nasirla88139526'}\n",
      "{'username': 'AyshaKhan9325'}\n",
      "{'username': 'tuukzs'}\n",
      "{'username': 'TheLadyGabby'}\n",
      "{'username': 'beansi50'}\n",
      "{'username': 'Romila_khan'}\n",
      "{'username': 'PreNom28271490'}\n",
      "{'username': 'PhogaatRavinder'}\n",
      "{'username': 'ryguynearby'}\n",
      "{'username': 'livelovepharb'}\n",
      "{'username': 'The_Krzysztof'}\n",
      "{'username': 'Pelipe_1'}\n",
      "{'username': 'Jennife78387224'}\n",
      "{'username': 'myorbittxt'}\n",
      "{'username': 'waszak23'}\n",
      "{'username': 'Shahida_1234'}\n",
      "{'username': 'BennetPelayo'}\n",
      "{'username': 'milesmeetsmonk'}\n",
      "{'username': 'Salmank81080569'}\n",
      "{'username': 'IOTArchy'}\n",
      "{'username': 'Sochima_E'}\n",
      "{'username': 'PKolokol'}\n",
      "{'username': 'DinkoMoro'}\n"
     ]
    },
    {
     "ename": "KeyboardInterrupt",
     "evalue": "",
     "output_type": "error",
     "traceback": [
      "\u001b[0;31m---------------------------------------------------------------------------\u001b[0m",
      "\u001b[0;31mKeyboardInterrupt\u001b[0m                         Traceback (most recent call last)",
      "Input \u001b[0;32mIn [12]\u001b[0m, in \u001b[0;36m<cell line: 18>\u001b[0;34m()\u001b[0m\n\u001b[1;32m     11\u001b[0m     stream\u001b[38;5;241m.\u001b[39mfilter(\n\u001b[1;32m     12\u001b[0m         tweet_fields\u001b[38;5;241m=\u001b[39m[\u001b[38;5;124m\"\u001b[39m\u001b[38;5;124mcreated_at\u001b[39m\u001b[38;5;124m\"\u001b[39m, \u001b[38;5;124m\"\u001b[39m\u001b[38;5;124mlang\u001b[39m\u001b[38;5;124m\"\u001b[39m],\n\u001b[1;32m     13\u001b[0m         expansions\u001b[38;5;241m=\u001b[39m[\u001b[38;5;124m\"\u001b[39m\u001b[38;5;124mauthor_id\u001b[39m\u001b[38;5;124m\"\u001b[39m],\n\u001b[1;32m     14\u001b[0m         user_fields\u001b[38;5;241m=\u001b[39m[\u001b[38;5;124m\"\u001b[39m\u001b[38;5;124musername\u001b[39m\u001b[38;5;124m\"\u001b[39m, \u001b[38;5;124m\"\u001b[39m\u001b[38;5;124mname\u001b[39m\u001b[38;5;124m\"\u001b[39m],\n\u001b[1;32m     15\u001b[0m     )\n\u001b[1;32m     17\u001b[0m \u001b[38;5;66;03m#RUN\u001b[39;00m\n\u001b[0;32m---> 18\u001b[0m \u001b[43mmain\u001b[49m\u001b[43m(\u001b[49m\u001b[43m)\u001b[49m\n",
      "Input \u001b[0;32mIn [12]\u001b[0m, in \u001b[0;36mmain\u001b[0;34m()\u001b[0m\n\u001b[1;32m      7\u001b[0m \u001b[38;5;66;03m#add new query\u001b[39;00m\n\u001b[1;32m      8\u001b[0m stream\u001b[38;5;241m.\u001b[39madd_rules(tweepy\u001b[38;5;241m.\u001b[39mStreamRule(query))\n\u001b[0;32m---> 11\u001b[0m \u001b[43mstream\u001b[49m\u001b[38;5;241;43m.\u001b[39;49m\u001b[43mfilter\u001b[49m\u001b[43m(\u001b[49m\n\u001b[1;32m     12\u001b[0m \u001b[43m    \u001b[49m\u001b[43mtweet_fields\u001b[49m\u001b[38;5;241;43m=\u001b[39;49m\u001b[43m[\u001b[49m\u001b[38;5;124;43m\"\u001b[39;49m\u001b[38;5;124;43mcreated_at\u001b[39;49m\u001b[38;5;124;43m\"\u001b[39;49m\u001b[43m,\u001b[49m\u001b[43m \u001b[49m\u001b[38;5;124;43m\"\u001b[39;49m\u001b[38;5;124;43mlang\u001b[39;49m\u001b[38;5;124;43m\"\u001b[39;49m\u001b[43m]\u001b[49m\u001b[43m,\u001b[49m\n\u001b[1;32m     13\u001b[0m \u001b[43m    \u001b[49m\u001b[43mexpansions\u001b[49m\u001b[38;5;241;43m=\u001b[39;49m\u001b[43m[\u001b[49m\u001b[38;5;124;43m\"\u001b[39;49m\u001b[38;5;124;43mauthor_id\u001b[39;49m\u001b[38;5;124;43m\"\u001b[39;49m\u001b[43m]\u001b[49m\u001b[43m,\u001b[49m\n\u001b[1;32m     14\u001b[0m \u001b[43m    \u001b[49m\u001b[43muser_fields\u001b[49m\u001b[38;5;241;43m=\u001b[39;49m\u001b[43m[\u001b[49m\u001b[38;5;124;43m\"\u001b[39;49m\u001b[38;5;124;43musername\u001b[39;49m\u001b[38;5;124;43m\"\u001b[39;49m\u001b[43m,\u001b[49m\u001b[43m \u001b[49m\u001b[38;5;124;43m\"\u001b[39;49m\u001b[38;5;124;43mname\u001b[39;49m\u001b[38;5;124;43m\"\u001b[39;49m\u001b[43m]\u001b[49m\u001b[43m,\u001b[49m\n\u001b[1;32m     15\u001b[0m \u001b[43m\u001b[49m\u001b[43m)\u001b[49m\n",
      "File \u001b[0;32m~/anaconda3/lib/python3.9/site-packages/tweepy/streaming.py:791\u001b[0m, in \u001b[0;36mStreamingClient.filter\u001b[0;34m(self, threaded, **params)\u001b[0m\n\u001b[1;32m    789\u001b[0m     \u001b[38;5;28;01mreturn\u001b[39;00m \u001b[38;5;28mself\u001b[39m\u001b[38;5;241m.\u001b[39m_threaded_connect(method, endpoint, params\u001b[38;5;241m=\u001b[39mparams)\n\u001b[1;32m    790\u001b[0m \u001b[38;5;28;01melse\u001b[39;00m:\n\u001b[0;32m--> 791\u001b[0m     \u001b[38;5;28;43mself\u001b[39;49m\u001b[38;5;241;43m.\u001b[39;49m\u001b[43m_connect\u001b[49m\u001b[43m(\u001b[49m\u001b[43mmethod\u001b[49m\u001b[43m,\u001b[49m\u001b[43m \u001b[49m\u001b[43mendpoint\u001b[49m\u001b[43m,\u001b[49m\u001b[43m \u001b[49m\u001b[43mparams\u001b[49m\u001b[38;5;241;43m=\u001b[39;49m\u001b[43mparams\u001b[49m\u001b[43m)\u001b[49m\n",
      "File \u001b[0;32m~/anaconda3/lib/python3.9/site-packages/tweepy/streaming.py:611\u001b[0m, in \u001b[0;36mStreamingClient._connect\u001b[0;34m(self, method, endpoint, **kwargs)\u001b[0m\n\u001b[1;32m    609\u001b[0m \u001b[38;5;28mself\u001b[39m\u001b[38;5;241m.\u001b[39msession\u001b[38;5;241m.\u001b[39mheaders[\u001b[38;5;124m\"\u001b[39m\u001b[38;5;124mAuthorization\u001b[39m\u001b[38;5;124m\"\u001b[39m] \u001b[38;5;241m=\u001b[39m \u001b[38;5;124mf\u001b[39m\u001b[38;5;124m\"\u001b[39m\u001b[38;5;124mBearer \u001b[39m\u001b[38;5;132;01m{\u001b[39;00m\u001b[38;5;28mself\u001b[39m\u001b[38;5;241m.\u001b[39mbearer_token\u001b[38;5;132;01m}\u001b[39;00m\u001b[38;5;124m\"\u001b[39m\n\u001b[1;32m    610\u001b[0m url \u001b[38;5;241m=\u001b[39m \u001b[38;5;124mf\u001b[39m\u001b[38;5;124m\"\u001b[39m\u001b[38;5;124mhttps://api.twitter.com/2/tweets/\u001b[39m\u001b[38;5;132;01m{\u001b[39;00mendpoint\u001b[38;5;132;01m}\u001b[39;00m\u001b[38;5;124m/stream\u001b[39m\u001b[38;5;124m\"\u001b[39m\n\u001b[0;32m--> 611\u001b[0m \u001b[38;5;28;43msuper\u001b[39;49m\u001b[43m(\u001b[49m\u001b[43m)\u001b[49m\u001b[38;5;241;43m.\u001b[39;49m\u001b[43m_connect\u001b[49m\u001b[43m(\u001b[49m\u001b[43mmethod\u001b[49m\u001b[43m,\u001b[49m\u001b[43m \u001b[49m\u001b[43murl\u001b[49m\u001b[43m,\u001b[49m\u001b[43m \u001b[49m\u001b[38;5;241;43m*\u001b[39;49m\u001b[38;5;241;43m*\u001b[39;49m\u001b[43mkwargs\u001b[49m\u001b[43m)\u001b[49m\n",
      "File \u001b[0;32m~/anaconda3/lib/python3.9/site-packages/tweepy/streaming.py:91\u001b[0m, in \u001b[0;36mBaseStream._connect\u001b[0;34m(self, method, url, auth, params, headers, body)\u001b[0m\n\u001b[1;32m     87\u001b[0m \u001b[38;5;28;01mfor\u001b[39;00m line \u001b[38;5;129;01min\u001b[39;00m resp\u001b[38;5;241m.\u001b[39miter_lines(\n\u001b[1;32m     88\u001b[0m     chunk_size\u001b[38;5;241m=\u001b[39m\u001b[38;5;28mself\u001b[39m\u001b[38;5;241m.\u001b[39mchunk_size\n\u001b[1;32m     89\u001b[0m ):\n\u001b[1;32m     90\u001b[0m     \u001b[38;5;28;01mif\u001b[39;00m line:\n\u001b[0;32m---> 91\u001b[0m         \u001b[38;5;28;43mself\u001b[39;49m\u001b[38;5;241;43m.\u001b[39;49m\u001b[43mon_data\u001b[49m\u001b[43m(\u001b[49m\u001b[43mline\u001b[49m\u001b[43m)\u001b[49m\n\u001b[1;32m     92\u001b[0m     \u001b[38;5;28;01melse\u001b[39;00m:\n\u001b[1;32m     93\u001b[0m         \u001b[38;5;28mself\u001b[39m\u001b[38;5;241m.\u001b[39mon_keep_alive()\n",
      "File \u001b[0;32m~/anaconda3/lib/python3.9/site-packages/tweepy/streaming.py:921\u001b[0m, in \u001b[0;36mStreamingClient.on_data\u001b[0;34m(self, raw_data)\u001b[0m\n\u001b[1;32m    919\u001b[0m \u001b[38;5;28;01mif\u001b[39;00m \u001b[38;5;124m\"\u001b[39m\u001b[38;5;124mdata\u001b[39m\u001b[38;5;124m\"\u001b[39m \u001b[38;5;129;01min\u001b[39;00m data:\n\u001b[1;32m    920\u001b[0m     tweet \u001b[38;5;241m=\u001b[39m Tweet(data[\u001b[38;5;124m\"\u001b[39m\u001b[38;5;124mdata\u001b[39m\u001b[38;5;124m\"\u001b[39m])\n\u001b[0;32m--> 921\u001b[0m     \u001b[38;5;28;43mself\u001b[39;49m\u001b[38;5;241;43m.\u001b[39;49m\u001b[43mon_tweet\u001b[49m\u001b[43m(\u001b[49m\u001b[43mtweet\u001b[49m\u001b[43m)\u001b[49m\n\u001b[1;32m    922\u001b[0m \u001b[38;5;28;01mif\u001b[39;00m \u001b[38;5;124m\"\u001b[39m\u001b[38;5;124mincludes\u001b[39m\u001b[38;5;124m\"\u001b[39m \u001b[38;5;129;01min\u001b[39;00m data:\n\u001b[1;32m    923\u001b[0m     includes \u001b[38;5;241m=\u001b[39m \u001b[38;5;28mself\u001b[39m\u001b[38;5;241m.\u001b[39m_process_includes(data[\u001b[38;5;124m\"\u001b[39m\u001b[38;5;124mincludes\u001b[39m\u001b[38;5;124m\"\u001b[39m])\n",
      "Input \u001b[0;32mIn [11]\u001b[0m, in \u001b[0;36mTweetStreamV2.on_tweet\u001b[0;34m(self, tweet)\u001b[0m\n\u001b[1;32m     18\u001b[0m \u001b[38;5;28;01mif\u001b[39;00m \u001b[38;5;124m\"\u001b[39m\u001b[38;5;124mSidney\u001b[39m\u001b[38;5;124m\"\u001b[39m \u001b[38;5;129;01min\u001b[39;00m tweet\u001b[38;5;241m.\u001b[39mtext:\n\u001b[1;32m     19\u001b[0m     \u001b[38;5;28mself\u001b[39m\u001b[38;5;241m.\u001b[39mproducer\u001b[38;5;241m.\u001b[39msend(\u001b[38;5;124m\"\u001b[39m\u001b[38;5;124msaCtiy\u001b[39m\u001b[38;5;124m\"\u001b[39m, key\u001b[38;5;241m=\u001b[39m\u001b[38;5;124m\"\u001b[39m\u001b[38;5;124mSID\u001b[39m\u001b[38;5;124m\"\u001b[39m, value\u001b[38;5;241m=\u001b[39mtweet\u001b[38;5;241m.\u001b[39mtext\u001b[38;5;241m.\u001b[39mencode(\u001b[38;5;124m'\u001b[39m\u001b[38;5;124mutf-8\u001b[39m\u001b[38;5;124m'\u001b[39m))\n\u001b[0;32m---> 22\u001b[0m \u001b[43mtime\u001b[49m\u001b[38;5;241;43m.\u001b[39;49m\u001b[43msleep\u001b[49m\u001b[43m(\u001b[49m\u001b[38;5;241;43m0.3\u001b[39;49m\u001b[43m)\u001b[49m\n",
      "\u001b[0;31mKeyboardInterrupt\u001b[0m: "
     ]
    }
   ],
   "source": [
    "def main():\n",
    "    \n",
    "    query = \"Chicago OR London OR Sidney\"\n",
    "    \n",
    "    stream = TweetStreamV2(Bearer_Token)\n",
    "\n",
    "    #add new query\n",
    "    stream.add_rules(tweepy.StreamRule(query))\n",
    "    \n",
    "\n",
    "    stream.filter(\n",
    "        tweet_fields=[\"created_at\", \"lang\"],\n",
    "        expansions=[\"author_id\"],\n",
    "        user_fields=[\"username\", \"name\"],\n",
    "    )\n",
    "\n",
    "#RUN\n",
    "main()"
   ]
  }
 ],
 "metadata": {
  "kernelspec": {
   "display_name": "Python 3 (ipykernel)",
   "language": "python",
   "name": "python3"
  },
  "language_info": {
   "codemirror_mode": {
    "name": "ipython",
    "version": 3
   },
   "file_extension": ".py",
   "mimetype": "text/x-python",
   "name": "python",
   "nbconvert_exporter": "python",
   "pygments_lexer": "ipython3",
   "version": "3.9.12"
  }
 },
 "nbformat": 4,
 "nbformat_minor": 5
}
